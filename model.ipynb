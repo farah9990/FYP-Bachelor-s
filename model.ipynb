{
 "cells": [
  {
   "cell_type": "code",
   "execution_count": 1,
   "metadata": {},
   "outputs": [],
   "source": [
    "import pandas as pd  # type: ignore\n",
    "import numpy as np # type: ignore\n",
    "import matplotlib.pyplot as plt # type: ignore\n",
    "import seaborn as sns  # type: ignore\n",
    "import scipy.fftpack # type: ignore\n",
    "from glob import glob\n",
    "import librosa\n",
    "import librosa.display as lplt  # type: ignore\n",
    "import IPython.display as ipd  # type: ignore\n",
    "import os\n",
    "import tensorflow as tf  # type: ignore\n",
    "import tensorflow_io as tfio  # type: ignore\n",
    "import pickle\n",
    "import numpy as np  # type: ignore \n",
    "import matplotlib.pyplot as plt # type: ignore \n",
    "import seaborn as sns  # type: ignore \n",
    "from sklearn.metrics import confusion_matrix\n",
    "from sklearn.metrics import accuracy_score, precision_score, recall_score"
   ]
  },
  {
   "cell_type": "code",
   "execution_count": 2,
   "metadata": {},
   "outputs": [],
   "source": [
    "def load_function(filename):\n",
    "  fiel_content= tf.io.read_file(filename)\n",
    "  wav , sample_rate = tf.audio.decode_wav(fiel_content , desired_channels=1)\n",
    "  wav = tf.squeeze(wav , axis= -1)\n",
    "  sample_rate = tf.cast(sample_rate , dtype= tf.int64)\n",
    "  wav = tfio.audio.resample(wav , rate_in=sample_rate , rate_out=1600)\n",
    "  return wav\n",
    "\n",
    "\n",
    "def preprocess(file_path , label ):\n",
    "  wav = load_function(file_path )\n",
    "  wav = wav[:6000]\n",
    "  zero_padding = tf.zeros([6000] - tf.shape(wav),dtype=tf.float32 )\n",
    "  wav = tf.concat([zero_padding,wav],0)\n",
    "  spectrogram = tf.signal.stft(wav , frame_length=320 , frame_step=32)\n",
    "  spectrogram = tf.abs(spectrogram)\n",
    "  spectrogram = tf.expand_dims(spectrogram, axis = 2)\n",
    "  return spectrogram , label"
   ]
  },
  {
   "cell_type": "code",
   "execution_count": 3,
   "metadata": {},
   "outputs": [],
   "source": [
    "trainig_real_audio = 'data/for-norm/for-norm/training/real'\n",
    "trainig_fake_audio = 'data/for-norm/for-norm/training/fake'\n",
    "\n",
    "testing_real_audio = 'data/for-norm/for-norm/testing/real'\n",
    "testing_fake_audio = 'data/for-norm/for-norm/testing/fake'\n",
    "\n",
    "validation_real_audio = 'data/for-norm/for-norm/validation/real'\n",
    "validation_fake_audio = 'data/for-norm/for-norm/validation/fake'\n"
   ]
  },
  {
   "cell_type": "code",
   "execution_count": 4,
   "metadata": {},
   "outputs": [],
   "source": [
    "TRA = tf.data.Dataset.list_files(trainig_real_audio +'/*.wav')\n",
    "TFA = tf.data.Dataset.list_files(trainig_fake_audio +'/*.wav')\n",
    "\n",
    "TESTRA = tf.data.Dataset.list_files(testing_real_audio +'/*.wav')\n",
    "TESTFA = tf.data.Dataset.list_files(testing_fake_audio +'/*.wav')\n",
    "\n",
    "VRA = tf.data.Dataset.list_files(validation_real_audio +'/*.wav')\n",
    "VFA = tf.data.Dataset.list_files(validation_fake_audio +'/*.wav')\n"
   ]
  },
  {
   "cell_type": "code",
   "execution_count": 5,
   "metadata": {},
   "outputs": [],
   "source": [
    "Treal = tf.data.Dataset.zip((TRA,tf.data.Dataset.from_tensor_slices(tf.zeros(len(TRA)))))\n",
    "Tfake = tf.data.Dataset.zip((TFA,tf.data.Dataset.from_tensor_slices(tf.ones(len(TFA)))))\n",
    "\n",
    "TestReal = tf.data.Dataset.zip((TESTRA,tf.data.Dataset.from_tensor_slices(tf.zeros(len(TESTRA)))))\n",
    "TestFake = tf.data.Dataset.zip((TESTFA,tf.data.Dataset.from_tensor_slices(tf.ones(len(TESTFA )))))\n",
    "\n",
    "Vreal = tf.data.Dataset.zip((VRA,tf.data.Dataset.from_tensor_slices(tf.zeros(len(VRA)))))\n",
    "Vfake = tf.data.Dataset.zip((VFA,tf.data.Dataset.from_tensor_slices(tf.ones(len(VFA)))))\n",
    "\n",
    "RealAudio = Treal.concatenate(TestReal.concatenate(Vreal))\n",
    "FakeAudio = Tfake.concatenate(TestFake.concatenate(Vfake))\n",
    "\n",
    "data = RealAudio.concatenate(FakeAudio)"
   ]
  },
  {
   "cell_type": "code",
   "execution_count": 6,
   "metadata": {},
   "outputs": [
    {
     "data": {
      "text/plain": [
       "(b'data\\\\for-norm\\\\for-norm\\\\training\\\\fake\\\\file25458.mp3.wav_16k.wav_norm.wav_mono.wav_silence.wav',\n",
       " 1.0)"
      ]
     },
     "execution_count": 6,
     "metadata": {},
     "output_type": "execute_result"
    }
   ],
   "source": [
    "data.shuffle(1000000).as_numpy_iterator().next()"
   ]
  },
  {
   "cell_type": "code",
   "execution_count": 8,
   "metadata": {},
   "outputs": [
    {
     "name": "stdout",
     "output_type": "stream",
     "text": [
      "Number of RealAudio samples: 34605\n",
      "Number of FakeAudio samples: 36819\n"
     ]
    }
   ],
   "source": [
    "num_real_samples = len(list(RealAudio.as_numpy_iterator()))\n",
    "num_fake_samples = len(list(FakeAudio.as_numpy_iterator()))\n",
    "\n",
    "print(f'Number of RealAudio samples: {num_real_samples}')\n",
    "print(f'Number of FakeAudio samples: {num_fake_samples}')"
   ]
  },
  {
   "cell_type": "code",
   "execution_count": 9,
   "metadata": {},
   "outputs": [
    {
     "name": "stdout",
     "output_type": "stream",
     "text": [
      "Number of RealAudio samples after balancing: 34605\n",
      "Number of FakeAudio samples after balancing: 34605\n"
     ]
    }
   ],
   "source": [
    "if num_real_samples < num_fake_samples:\n",
    "    num_samples_diff = num_fake_samples - num_real_samples\n",
    "    FakeAudio = FakeAudio.take(num_fake_samples - num_samples_diff)\n",
    "elif num_real_samples > num_fake_samples:\n",
    "    num_samples_diff = num_real_samples - num_fake_samples\n",
    "    RealAudio = RealAudio.take(num_real_samples - num_samples_diff)\n",
    "\n",
    "# Count the number of samples again to make sure the dataset is  balance\n",
    "num_real_samples = len(list(RealAudio.as_numpy_iterator()))\n",
    "num_fake_samples = len(list(FakeAudio.as_numpy_iterator()))\n",
    "\n",
    "print(f'Number of RealAudio samples after balancing: {num_real_samples}')\n",
    "print(f'Number of FakeAudio samples after balancing: {num_fake_samples}')"
   ]
  },
  {
   "cell_type": "code",
   "execution_count": 10,
   "metadata": {},
   "outputs": [],
   "source": [
    "data = RealAudio.concatenate(FakeAudio)"
   ]
  },
  {
   "cell_type": "code",
   "execution_count": 11,
   "metadata": {},
   "outputs": [
    {
     "name": "stdout",
     "output_type": "stream",
     "text": [
      "WARNING:tensorflow:From c:\\Users\\shaha\\AppData\\Local\\Programs\\Python\\Python38\\lib\\site-packages\\tensorflow\\python\\autograph\\pyct\\static_analysis\\liveness.py:83: Analyzer.lamba_check (from tensorflow.python.autograph.pyct.static_analysis.liveness) is deprecated and will be removed after 2023-09-23.\n",
      "Instructions for updating:\n",
      "Lambda fuctions will be no more assumed to be used in the statement where they are used, or at least in the same block. https://github.com/tensorflow/tensorflow/issues/56089\n",
      "WARNING:tensorflow:Using a while_loop for converting IO>AudioResample cause there is no registered converter for this op.\n"
     ]
    }
   ],
   "source": [
    "data = data.map(preprocess)\n",
    "data = data.cache()\n",
    "data = data.shuffle(buffer_size=100000)\n",
    "data = data.batch(16)\n",
    "data = data.prefetch(8)"
   ]
  },
  {
   "cell_type": "code",
   "execution_count": 12,
   "metadata": {},
   "outputs": [
    {
     "name": "stdout",
     "output_type": "stream",
     "text": [
      "all the data set :  4326 \n",
      "70% of the data set : 3028.2 \n",
      "the remaine: 1297.8000000000002\n"
     ]
    }
   ],
   "source": [
    "# calcute 70% of the data we have , and define how many remain \n",
    "x = len(data)*0.7\n",
    "y = len(data)\n",
    "z = y - x\n",
    "print( \"all the data set : \",y,\"\\n70% of the data set :\", x , \"\\nthe remaine:\", z )"
   ]
  },
  {
   "cell_type": "code",
   "execution_count": 13,
   "metadata": {},
   "outputs": [],
   "source": [
    "train = data.take(3029)\n",
    "test = data.skip(3029).take(1297)"
   ]
  },
  {
   "cell_type": "code",
   "execution_count": 21,
   "metadata": {},
   "outputs": [
    {
     "name": "stdout",
     "output_type": "stream",
     "text": [
      "the shape of the sample (16, 178, 257, 1)\n"
     ]
    },
    {
     "data": {
      "text/plain": [
       "array([0., 1., 1., 1., 0., 1., 1., 1., 0., 0., 1., 0., 0., 0., 1., 0.],\n",
       "      dtype=float32)"
      ]
     },
     "execution_count": 21,
     "metadata": {},
     "output_type": "execute_result"
    }
   ],
   "source": [
    "samples , label = train.as_numpy_iterator().next()\n",
    "print(\"the shape of the sample\" , samples.shape)\n",
    "label"
   ]
  },
  {
   "cell_type": "code",
   "execution_count": 22,
   "metadata": {},
   "outputs": [],
   "source": [
    "import tensorflow as tf\n",
    "from tensorflow.keras.models import Sequential\n",
    "from tensorflow.keras.layers import Conv2D, MaxPooling2D, Flatten, LSTM, Dense\n",
    "from keras.layers import TimeDistributed"
   ]
  },
  {
   "cell_type": "code",
   "execution_count": 23,
   "metadata": {},
   "outputs": [
    {
     "name": "stdout",
     "output_type": "stream",
     "text": [
      "Model: \"sequential\"\n",
      "_________________________________________________________________\n",
      " Layer (type)                Output Shape              Param #   \n",
      "=================================================================\n",
      " conv2d (Conv2D)             (None, 176, 255, 32)      320       \n",
      "                                                                 \n",
      " max_pooling2d (MaxPooling2D  (None, 88, 127, 32)      0         \n",
      " )                                                               \n",
      "                                                                 \n",
      " conv2d_1 (Conv2D)           (None, 86, 125, 64)       18496     \n",
      "                                                                 \n",
      " max_pooling2d_1 (MaxPooling  (None, 43, 62, 64)       0         \n",
      " 2D)                                                             \n",
      "                                                                 \n",
      " time_distributed (TimeDistr  (None, 43, 3968)         0         \n",
      " ibuted)                                                         \n",
      "                                                                 \n",
      " lstm (LSTM)                 (None, 43, 50)            803800    \n",
      "                                                                 \n",
      " lstm_1 (LSTM)               (None, 50)                20200     \n",
      "                                                                 \n",
      " dense (Dense)               (None, 128)               6528      \n",
      "                                                                 \n",
      " dense_1 (Dense)             (None, 1)                 129       \n",
      "                                                                 \n",
      "=================================================================\n",
      "Total params: 849,473\n",
      "Trainable params: 849,473\n",
      "Non-trainable params: 0\n",
      "_________________________________________________________________\n"
     ]
    }
   ],
   "source": [
    "model = Sequential()\n",
    "model.add(Conv2D(32, kernel_size=(3, 3), activation='relu', input_shape=(178, 257, 1)))\n",
    "model.add(MaxPooling2D(pool_size=(2, 2)))\n",
    "model.add(Conv2D(64, kernel_size=(3, 3), activation='relu'))\n",
    "model.add(MaxPooling2D(pool_size=(2, 2)))\n",
    "model.add(TimeDistributed(Flatten()))  # Add TimeDistributed to apply Flatten to each time step\n",
    "model.add(LSTM(50, return_sequences=True))\n",
    "model.add(LSTM(50))\n",
    "model.add(Dense(128, activation='relu'))\n",
    "model.add(Dense(1, activation='sigmoid'))  # Adjust for binary or multi-class\n",
    "\n",
    "model.compile(optimizer='adam', loss='binary_crossentropy', metrics=['accuracy',tf.keras.metrics.Recall(),tf.keras.metrics.Precision()])\n",
    "model.summary()"
   ]
  },
  {
   "cell_type": "code",
   "execution_count": null,
   "metadata": {},
   "outputs": [],
   "source": [
    "CNN_LSTM_model = model.fit(train, epochs=4, validation_data=test)"
   ]
  },
  {
   "cell_type": "code",
   "execution_count": 25,
   "metadata": {},
   "outputs": [
    {
     "data": {
      "image/png": "[encoded data removed]",
      "text/plain": [
       "<Figure size 640x480 with 1 Axes>"
      ]
     },
     "metadata": {},
     "output_type": "display_data"
    }
   ],
   "source": [
    "plt.title('Loss')\n",
    "plt.plot(CNN_LSTM_model.history['loss'], 'r')\n",
    "plt.plot(CNN_LSTM_model.history['val_loss'], 'b')\n",
    "plt.show()"
   ]
  },
  {
   "cell_type": "code",
   "execution_count": 26,
   "metadata": {},
   "outputs": [
    {
     "data": {
      "image/png": "[encoded data removed]",
      "text/plain": [
       "<Figure size 640x480 with 1 Axes>"
      ]
     },
     "metadata": {},
     "output_type": "display_data"
    }
   ],
   "source": [
    "plt.title('Precision')\n",
    "plt.plot(CNN_LSTM_model.history['precision'], 'r')\n",
    "plt.plot(CNN_LSTM_model.history['val_precision'], 'b')\n",
    "plt.show()"
   ]
  },
  {
   "cell_type": "code",
   "execution_count": 27,
   "metadata": {},
   "outputs": [
    {
     "data": {
      "image/png": "[encoded data removed]",
      "text/plain": [
       "<Figure size 640x480 with 1 Axes>"
      ]
     },
     "metadata": {},
     "output_type": "display_data"
    }
   ],
   "source": [
    "plt.title('Recall')\n",
    "plt.plot(CNN_LSTM_model.history['recall'], 'r')\n",
    "plt.plot(CNN_LSTM_model.history['val_recall'], 'b')\n",
    "plt.show()"
   ]
  },
  {
   "cell_type": "code",
   "execution_count": 28,
   "metadata": {},
   "outputs": [
    {
     "data": {
      "image/png": "[encoded data removed]",
      "text/plain": [
       "<Figure size 640x480 with 1 Axes>"
      ]
     },
     "metadata": {},
     "output_type": "display_data"
    }
   ],
   "source": [
    "plt.title('accuracy')\n",
    "plt.plot(CNN_LSTM_model.history['accuracy'], 'r')\n",
    "plt.plot(CNN_LSTM_model.history['val_accuracy'], 'b')\n",
    "plt.ylabel('accuracy')\n",
    "plt.xlabel('epoch')\n",
    "plt.show()"
   ]
  },
  {
   "cell_type": "code",
   "execution_count": 14,
   "metadata": {},
   "outputs": [],
   "source": [
    "x_test , y_test = test.as_numpy_iterator().next()"
   ]
  },
  {
   "cell_type": "code",
   "execution_count": 30,
   "metadata": {},
   "outputs": [
    {
     "name": "stdout",
     "output_type": "stream",
     "text": [
      "1/1 [==============================] - 6s 6s/step\n"
     ]
    }
   ],
   "source": [
    "predictionForAudio =  model.predict(x_test)"
   ]
  },
  {
   "cell_type": "code",
   "execution_count": 31,
   "metadata": {},
   "outputs": [
    {
     "data": {
      "text/plain": [
       "array([[9.9978328e-01],\n",
       "       [2.7641107e-07],\n",
       "       [1.8336278e-06],\n",
       "       [9.9981284e-01],\n",
       "       [9.9968934e-01],\n",
       "       [5.9467798e-06],\n",
       "       [9.9573936e-07],\n",
       "       [1.8927680e-06],\n",
       "       [3.8743959e-04],\n",
       "       [4.0814763e-07],\n",
       "       [9.9965841e-01],\n",
       "       [4.1011882e-07],\n",
       "       [1.5342892e-04],\n",
       "       [4.8838251e-07],\n",
       "       [9.9958527e-01],\n",
       "       [9.9809760e-01]], dtype=float32)"
      ]
     },
     "execution_count": 31,
     "metadata": {},
     "output_type": "execute_result"
    }
   ],
   "source": [
    "predictionForAudio"
   ]
  },
  {
   "cell_type": "code",
   "execution_count": 32,
   "metadata": {},
   "outputs": [],
   "source": [
    "predictionForAudio = [ 1 if prediction > 0.5 else  0 for prediction in predictionForAudio]"
   ]
  },
  {
   "cell_type": "code",
   "execution_count": 33,
   "metadata": {},
   "outputs": [
    {
     "data": {
      "text/plain": [
       "<tf.Tensor: shape=(), dtype=int32, numpy=6>"
      ]
     },
     "execution_count": 33,
     "metadata": {},
     "output_type": "execute_result"
    }
   ],
   "source": [
    "tf.math.reduce_sum(predictionForAudio)"
   ]
  },
  {
   "cell_type": "code",
   "execution_count": 34,
   "metadata": {},
   "outputs": [
    {
     "data": {
      "text/plain": [
       "<tf.Tensor: shape=(), dtype=float32, numpy=6.0>"
      ]
     },
     "execution_count": 34,
     "metadata": {},
     "output_type": "execute_result"
    }
   ],
   "source": [
    "tf.math.reduce_sum(y_test)"
   ]
  },
  {
   "cell_type": "code",
   "execution_count": 35,
   "metadata": {},
   "outputs": [
    {
     "data": {
      "text/plain": [
       "[1, 0, 0, 1, 1, 0, 0, 0, 0, 0, 1, 0, 0, 0, 1, 1]"
      ]
     },
     "execution_count": 35,
     "metadata": {},
     "output_type": "execute_result"
    }
   ],
   "source": [
    "predictionForAudio"
   ]
  },
  {
   "cell_type": "code",
   "execution_count": 36,
   "metadata": {},
   "outputs": [
    {
     "data": {
      "text/plain": [
       "array([1, 0, 0, 1, 1, 0, 0, 0, 0, 0, 1, 0, 0, 0, 1, 1])"
      ]
     },
     "execution_count": 36,
     "metadata": {},
     "output_type": "execute_result"
    }
   ],
   "source": [
    "y_test.astype(int)"
   ]
  },
  {
   "cell_type": "code",
   "execution_count": 37,
   "metadata": {},
   "outputs": [
    {
     "name": "stdout",
     "output_type": "stream",
     "text": [
      "Keras weights file (<HDF5 file \"variables.h5\" (mode r+)>) saving:\n",
      "...layers\\conv2d\n",
      "......vars\n",
      ".........0\n",
      ".........1\n",
      "...layers\\conv2d_1\n",
      "......vars\n",
      ".........0\n",
      ".........1\n",
      "...layers\\dense\n",
      "......vars\n",
      ".........0\n",
      ".........1\n",
      "...layers\\dense_1\n",
      "......vars\n",
      ".........0\n",
      ".........1\n",
      "...layers\\lstm\n",
      "......vars\n",
      "...layers\\lstm\\cell\n",
      "......vars\n",
      ".........0\n",
      ".........1\n",
      ".........2\n",
      "...layers\\lstm_1\n",
      "......vars\n",
      "...layers\\lstm_1\\cell\n",
      "......vars\n",
      ".........0\n",
      ".........1\n",
      ".........2\n",
      "...layers\\max_pooling2d\n",
      "......vars\n",
      "...layers\\max_pooling2d_1\n",
      "......vars\n",
      "...layers\\time_distributed\n",
      "......vars\n",
      "...layers\\time_distributed\\layer\n",
      "......vars\n",
      "...metrics\\mean\n",
      "......vars\n",
      ".........0\n",
      ".........1\n",
      "...metrics\\mean_metric_wrapper\n",
      "......vars\n",
      ".........0\n",
      ".........1\n",
      "...metrics\\precision\n",
      "......vars\n",
      ".........0\n",
      ".........1\n",
      "...metrics\\recall\n",
      "......vars\n",
      ".........0\n",
      ".........1\n",
      "...optimizer\n",
      "......vars\n",
      ".........0\n",
      ".........1\n",
      ".........10\n",
      ".........11\n",
      ".........12\n",
      ".........13\n",
      ".........14\n",
      ".........15\n",
      ".........16\n",
      ".........17\n",
      ".........18\n",
      ".........19\n",
      ".........2\n",
      ".........20\n",
      ".........21\n",
      ".........22\n",
      ".........23\n",
      ".........24\n",
      ".........25\n",
      ".........26\n",
      ".........27\n",
      ".........28\n",
      ".........3\n",
      ".........4\n",
      ".........5\n",
      ".........6\n",
      ".........7\n",
      ".........8\n",
      ".........9\n",
      "...vars\n",
      "Keras model archive saving:\n",
      "File Name                                             Modified             Size\n",
      "config.json                                    2024-04-23 19:58:58         5228\n",
      "metadata.json                                  2024-04-23 19:58:58           64\n",
      "variables.h5                                   2024-04-23 19:58:59     10248328\n"
     ]
    }
   ],
   "source": [
    "import pickle\n",
    "\n",
    "# Save the model to a file\n",
    "with open('trained_model.pkl', 'wb') as file:\n",
    "    pickle.dump(model, file)"
   ]
  },
  {
   "cell_type": "code",
   "execution_count": 15,
   "metadata": {},
   "outputs": [
    {
     "name": "stdout",
     "output_type": "stream",
     "text": [
      "Keras model archive loading:\n",
      "File Name                                             Modified             Size\n",
      "config.json                                    2024-04-23 19:58:58         5228\n",
      "metadata.json                                  2024-04-23 19:58:58           64\n",
      "variables.h5                                   2024-04-23 19:58:58     10248328\n",
      "Keras weights file (<HDF5 file \"variables.h5\" (mode r)>) loading:\n",
      "...layers\\conv2d\n",
      "......vars\n",
      ".........0\n",
      ".........1\n",
      "...layers\\conv2d_1\n",
      "......vars\n",
      ".........0\n",
      ".........1\n",
      "...layers\\dense\n",
      "......vars\n",
      ".........0\n",
      ".........1\n",
      "...layers\\dense_1\n",
      "......vars\n",
      ".........0\n",
      ".........1\n",
      "...layers\\lstm\n",
      "......vars\n",
      "...layers\\lstm\\cell\n",
      "......vars\n",
      ".........0\n",
      ".........1\n",
      ".........2\n",
      "...layers\\lstm_1\n",
      "......vars\n",
      "...layers\\lstm_1\\cell\n",
      "......vars\n",
      ".........0\n",
      ".........1\n",
      ".........2\n",
      "...layers\\max_pooling2d\n",
      "......vars\n",
      "...layers\\max_pooling2d_1\n",
      "......vars\n",
      "...layers\\time_distributed\n",
      "......vars\n",
      "...layers\\time_distributed\\layer\n",
      "......vars\n",
      "...metrics\\mean\n",
      "......vars\n",
      ".........0\n",
      ".........1\n",
      "...metrics\\mean_metric_wrapper\n",
      "......vars\n",
      ".........0\n",
      ".........1\n",
      "...metrics\\precision\n",
      "......vars\n",
      ".........0\n",
      ".........1\n",
      "...metrics\\recall\n",
      "......vars\n",
      ".........0\n",
      ".........1\n",
      "...optimizer\n",
      "......vars\n",
      ".........0\n",
      ".........1\n",
      ".........10\n",
      ".........11\n",
      ".........12\n",
      ".........13\n",
      ".........14\n",
      ".........15\n",
      ".........16\n",
      ".........17\n",
      ".........18\n",
      ".........19\n",
      ".........2\n",
      ".........20\n",
      ".........21\n",
      ".........22\n",
      ".........23\n",
      ".........24\n",
      ".........25\n",
      ".........26\n",
      ".........27\n",
      ".........28\n",
      ".........3\n",
      ".........4\n",
      ".........5\n",
      ".........6\n",
      ".........7\n",
      ".........8\n",
      ".........9\n",
      "...vars\n"
     ]
    }
   ],
   "source": [
    "import pickle \n",
    "with open('trained_model.pkl', 'rb') as file:\n",
    "    CNN_LSTM = pickle.load(file)"
   ]
  },
  {
   "cell_type": "code",
   "execution_count": 16,
   "metadata": {},
   "outputs": [
    {
     "name": "stdout",
     "output_type": "stream",
     "text": [
      "1/1 [==============================] - 7s 7s/step\n"
     ]
    }
   ],
   "source": [
    "y_pred = CNN_LSTM.predict(x_test)"
   ]
  },
  {
   "cell_type": "code",
   "execution_count": 22,
   "metadata": {},
   "outputs": [
    {
     "name": "stdout",
     "output_type": "stream",
     "text": [
      "Accuracy: 1.0\n",
      "Precision: 1.0\n",
      "Recall: 1.0\n"
     ]
    }
   ],
   "source": [
    "threshold = 0.9 # Adjust threshold as needed\n",
    "\n",
    "# Convert probabilities to binary labels\n",
    "y_pred_binary = (y_pred > threshold).astype(int)\n",
    "\n",
    "# Now calculate classification metrics with binary labels\n",
    "accuracy = accuracy_score(y_test, y_pred_binary)\n",
    "precision = precision_score(y_test, y_pred_binary)\n",
    "recall = recall_score(y_test, y_pred_binary)\n",
    "\n",
    "print(\"Accuracy:\", accuracy)\n",
    "print(\"Precision:\", precision)\n",
    "print(\"Recall:\", recall)"
   ]
  },
  {
   "cell_type": "code",
   "execution_count": 24,
   "metadata": {},
   "outputs": [
    {
     "name": "stdout",
     "output_type": "stream",
     "text": [
      "Confusion Matrix:\n",
      "[[9 0]\n",
      " [0 7]]\n"
     ]
    }
   ],
   "source": [
    "conf_matrix = confusion_matrix(y_test,y_pred_binary)\n",
    "print(\"Confusion Matrix:\")\n",
    "print(conf_matrix)"
   ]
  },
  {
   "cell_type": "code",
   "execution_count": 25,
   "metadata": {},
   "outputs": [
    {
     "data": {
      "image/png": "[encoded data removed]",
      "text/plain": [
       "<Figure size 800x600 with 2 Axes>"
      ]
     },
     "metadata": {},
     "output_type": "display_data"
    }
   ],
   "source": [
    "plt.figure(figsize=(8, 6))\n",
    "sns.heatmap(conf_matrix, annot=True, cmap='Blues', fmt='g')\n",
    "plt.xlabel('Predicted labels')\n",
    "plt.ylabel('True labels')\n",
    "plt.title('Confusion Matrix')\n",
    "plt.show()"
   ]
  }
 ],
 "metadata": {
  "kernelspec": {
   "display_name": "Python 3",
   "language": "python",
   "name": "python3"
  },
  "language_info": {
   "codemirror_mode": {
    "name": "ipython",
    "version": 3
   },
   "file_extension": ".py",
   "mimetype": "text/x-python",
   "name": "python",
   "nbconvert_exporter": "python",
   "pygments_lexer": "ipython3",
   "version": "3.8.0"
  }
 },
 "nbformat": 4,
 "nbformat_minor": 2
}
