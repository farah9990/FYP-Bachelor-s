{
 "cells": [
  {
   "cell_type": "code",
   "execution_count": 3,
   "metadata": {},
   "outputs": [
    {
     "name": "stdout",
     "output_type": "stream",
     "text": [
      " * Serving Flask app '__main__'\n",
      " * Debug mode: off\n"
     ]
    },
    {
     "name": "stderr",
     "output_type": "stream",
     "text": [
      "INFO:werkzeug:\u001b[31m\u001b[1mWARNING: This is a development server. Do not use it in a production deployment. Use a production WSGI server instead.\u001b[0m\n",
      " * Running on all addresses (0.0.0.0)\n",
      " * Running on http://127.0.0.1:5000\n",
      " * Running on http://192.168.100.9:5000\n",
      "INFO:werkzeug:\u001b[33mPress CTRL+C to quit\u001b[0m\n",
      "INFO:werkzeug:192.168.100.16 - - [14/May/2024 21:04:52] \"POST /upload-audio HTTP/1.1\" 200 -\n"
     ]
    },
    {
     "name": "stdout",
     "output_type": "stream",
     "text": [
      "audio noe prpcess to get prdict\n",
      "1/1 [==============================] - 0s 31ms/step\n"
     ]
    },
    {
     "name": "stderr",
     "output_type": "stream",
     "text": [
      "INFO:werkzeug:192.168.100.16 - - [14/May/2024 21:04:52] \"GET /check HTTP/1.1\" 200 -\n"
     ]
    },
    {
     "name": "stdout",
     "output_type": "stream",
     "text": [
      "got the prediction\n",
      "got the percentage\n",
      "got the percentage\n",
      "100.0\n"
     ]
    },
    {
     "name": "stderr",
     "output_type": "stream",
     "text": [
      "INFO:werkzeug:192.168.100.16 - - [14/May/2024 21:05:54] \"POST /predict HTTP/1.1\" 200 -\n"
     ]
    },
    {
     "name": "stdout",
     "output_type": "stream",
     "text": [
      "Audio file deleted successfully.\n"
     ]
    },
    {
     "name": "stderr",
     "output_type": "stream",
     "text": [
      "INFO:werkzeug:192.168.100.16 - - [14/May/2024 21:05:58] \"POST /predict HTTP/1.1\" 200 -\n"
     ]
    },
    {
     "name": "stdout",
     "output_type": "stream",
     "text": [
      "Audio file deleted successfully.\n"
     ]
    },
    {
     "name": "stderr",
     "output_type": "stream",
     "text": [
      "INFO:werkzeug:192.168.100.16 - - [14/May/2024 21:06:04] \"POST /predict HTTP/1.1\" 200 -\n"
     ]
    },
    {
     "name": "stdout",
     "output_type": "stream",
     "text": [
      "Audio file deleted successfully.\n"
     ]
    },
    {
     "name": "stderr",
     "output_type": "stream",
     "text": [
      "INFO:werkzeug:192.168.100.16 - - [14/May/2024 21:06:08] \"POST /predict HTTP/1.1\" 200 -\n"
     ]
    },
    {
     "name": "stdout",
     "output_type": "stream",
     "text": [
      "Audio file deleted successfully.\n"
     ]
    },
    {
     "name": "stderr",
     "output_type": "stream",
     "text": [
      "INFO:werkzeug:192.168.100.16 - - [14/May/2024 21:06:14] \"POST /predict HTTP/1.1\" 200 -\n"
     ]
    },
    {
     "name": "stdout",
     "output_type": "stream",
     "text": [
      "Audio file deleted successfully.\n"
     ]
    },
    {
     "name": "stderr",
     "output_type": "stream",
     "text": [
      "INFO:werkzeug:192.168.100.16 - - [14/May/2024 21:06:18] \"POST /predict HTTP/1.1\" 200 -\n"
     ]
    },
    {
     "name": "stdout",
     "output_type": "stream",
     "text": [
      "Audio file deleted successfully.\n"
     ]
    }
   ],
   "source": [
    "import logging\n",
    "from flask import Flask, request, jsonify \n",
    "from processingAudioUp import get_percent #Name of the file containing the function we utilize to predict the fakeness\n",
    "from processingAudioRealTime import real_time_percent#Name of the file containing the function we utilize to predict the fakeness\n",
    "app = Flask(__name__)\n",
    "logging.basicConfig(level=logging.ERROR)\n",
    "@app.route('/upload-audio', methods=['POST'])\n",
    "def upload_audio():\n",
    "    file = request.files.get('file')\n",
    "    if not file:\n",
    "        return jsonify({\"error\": \"No audio file provided\"}), 400\n",
    "\n",
    "    try:\n",
    "        file.save('audio.wav')\n",
    "        return \"Audio file uploaded and processed successfully\"\n",
    "    except Exception as e:\n",
    "        logging.error(f\"Error saving audio file: {e}\")\n",
    "        return jsonify({\"error\": f\"Error saving audio file: {str(e)}\"}), 500\n",
    "\n",
    "@app.route('/check')\n",
    "def check_message():\n",
    "    try:\n",
    "        percent =  get_percent()\n",
    "        print(percent)\n",
    "        return str(percent)\n",
    "    except Exception as e:\n",
    "        logging.error(f\"Error checking message: {e}\")\n",
    "        return jsonify({\"error\": f\"Error checking message: {str(e)}\"}), 500\n",
    "\n",
    "@app.route('/predict', methods=['POST'])\n",
    "def upload_sound_data():\n",
    "    if 'file' not in request.files:\n",
    "        return jsonify({'error': 'No sound file uploaded'}), 400\n",
    "\n",
    "    sound_file = request.files['file']\n",
    "    audio_file_path = 'real_time_audio.wav'\n",
    "    sound_file.save(audio_file_path)\n",
    "\n",
    "    try:\n",
    "        prediction = real_time_percent()\n",
    "        if prediction == \"true\":\n",
    "            response_message = \"Be careful, you're listening to a Fake audio.\"\n",
    "        elif prediction == \"false\":\n",
    "            response_message = \"You are safe, no fake detection.\"\n",
    "        else:\n",
    "            response_message = \"Unknown prediction\"\n",
    "        \n",
    "        return response_message\n",
    "    except Exception as e:\n",
    "        return jsonify({'error': str(e)}), 500\n",
    "\n",
    "if __name__ == '__main__':\n",
    "    app.run(host='0.0.0.0', port=5000)\n"
   ]
  }
 ],
 "metadata": {
  "kernelspec": {
   "display_name": "Python 3",
   "language": "python",
   "name": "python3"
  },
  "language_info": {
   "codemirror_mode": {
    "name": "ipython",
    "version": 3
   },
   "file_extension": ".py",
   "mimetype": "text/x-python",
   "name": "python",
   "nbconvert_exporter": "python",
   "pygments_lexer": "ipython3",
   "version": "3.8.0"
  }
 },
 "nbformat": 4,
 "nbformat_minor": 2
}
